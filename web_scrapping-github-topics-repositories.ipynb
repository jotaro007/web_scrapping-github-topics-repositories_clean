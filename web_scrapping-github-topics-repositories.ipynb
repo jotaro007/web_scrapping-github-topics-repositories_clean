{
 "cells": [
  {
   "cell_type": "markdown",
   "id": "bf694c5b",
   "metadata": {},
   "source": [
    "# Scraping Top Repositories for Topics on GitHub\n",
    "\n",
    "### TODO (Intro)\n",
    "\n",
    "##### Intro to Web Scraping\n",
    "\n",
    "- Web scraping is the process of using bots to extract content and data from a website. The scraper can then replicate entire website content elsewhere. Big companies use web scrapers for their own gain but also don't want others to use bots against them.\n",
    "\n",
    "##### About Github\n",
    "\n",
    "- GitHub (https://github.com/) is a code hosting platform for version control and collaboration. It lets you and others work together on projects from anywhere. It contains thousands of repositories on different topics\n",
    "\n",
    "##### Problem Statement\n",
    "\n",
    "- Here I'm going to use the topic page and from the topic page I am going find list of topics from each repository and then download it as '.csv' file.\n",
    "\n",
    "##### Tools\n",
    "\n",
    "- Python  \n",
    "- requests \n",
    "- Beautiful Soup \n",
    "- Pandas "
   ]
  },
  {
   "cell_type": "code",
   "execution_count": null,
   "id": "fd16a9cd",
   "metadata": {},
   "outputs": [],
   "source": []
  },
  {
   "cell_type": "markdown",
   "id": "e9695c8b",
   "metadata": {},
   "source": [
    "##### Here are the steps I'll follow:\n",
    "\n",
    "- We're going to scrape https://github.com/topics\n",
    "- We'll get a list of topics. For each topic we will get topic title, topic page URL and topic description\n",
    "- For each topic, we'll get the top repositories in the topic from the topic page\n",
    "- For each repository, we'll grab the repo name, username, stars and repo URL\n",
    "- For each topic we'll create a CSV file uin the following formate: \n",
    "\n",
    "```\n",
    "Repo Name, Username, Stars, Repo URL\n",
    "three.js, mrdoob, 79000, https://github.com/mrdoob/three.js\n",
    "```   "
   ]
  },
  {
   "cell_type": "code",
   "execution_count": null,
   "id": "6bcc896e",
   "metadata": {},
   "outputs": [],
   "source": []
  },
  {
   "cell_type": "markdown",
   "id": "f4598494",
   "metadata": {},
   "source": [
    "## Scrape the list of topics from Github\n",
    "\n",
    "- use requests to downlaod the page\n",
    "- user BS4 to parse and extract information\n",
    "- convert to a Pandas dataframe\n"
   ]
  },
  {
   "cell_type": "code",
   "execution_count": null,
   "id": "ba559701",
   "metadata": {},
   "outputs": [],
   "source": []
  },
  {
   "cell_type": "code",
   "execution_count": 1,
   "id": "a9eca006",
   "metadata": {},
   "outputs": [],
   "source": [
    "#import requests,  BeautifulSoup, os and pandas Libraries\n",
    "\n",
    "import requests\n",
    "from bs4 import BeautifulSoup\n",
    "import os\n",
    "import pandas as pd"
   ]
  },
  {
   "cell_type": "code",
   "execution_count": 2,
   "id": "5cd2a16b",
   "metadata": {},
   "outputs": [],
   "source": [
    "# Write a function to download the page\n",
    "\n",
    "def get_topics_page():\n",
    "    \n",
    "    topics_url = 'https://github.com/topics'\n",
    "    #Download the page\n",
    "    response = requests.get(topics_url)\n",
    "    #check successful response\n",
    "    if response.status_code != 200:\n",
    "        raise Exception('failed to load page {}'.format(topic_url))        \n",
    "    # Parse using Beautiful soap\n",
    "    doc = BeautifulSoup(response.text, 'html.parser')\n",
    "    \n",
    "    return doc"
   ]
  },
  {
   "cell_type": "code",
   "execution_count": 3,
   "id": "bf4f05c0",
   "metadata": {},
   "outputs": [],
   "source": [
    "doc = get_topics_page()"
   ]
  },
  {
   "cell_type": "code",
   "execution_count": 4,
   "id": "6c10534d",
   "metadata": {},
   "outputs": [
    {
     "data": {
      "text/plain": [
       "bs4.BeautifulSoup"
      ]
     },
     "execution_count": 4,
     "metadata": {},
     "output_type": "execute_result"
    }
   ],
   "source": [
    "type(doc)"
   ]
  },
  {
   "cell_type": "code",
   "execution_count": null,
   "id": "4532f4ad",
   "metadata": {},
   "outputs": [],
   "source": []
  },
  {
   "cell_type": "markdown",
   "id": "7cf9f286",
   "metadata": {},
   "source": [
    "##### Create some helper functions to parse information from the page\n",
    "\n",
    "To get the topic titles, we can pick `p` tags with the `class` ´f3 lh-condensed mb-0 mt-1 Link--primary´..\n",
    "\n",
    "![](https://i.imgur.com/p2T7IkC.png)"
   ]
  },
  {
   "cell_type": "code",
   "execution_count": 5,
   "id": "0ca5d200",
   "metadata": {},
   "outputs": [],
   "source": [
    "# Topic title\n",
    "def get_topic_titles(doc):\n",
    "    \n",
    "    selection_class = 'f3 lh-condensed mb-0 mt-1 Link--primary'\n",
    "    topic_title_tags = doc.find_all('p', {'class': selection_class})\n",
    "    \n",
    "    topic_titles = []\n",
    "    for tag in topic_title_tags:\n",
    "        topic_titles.append(tag.text) \n",
    "    return topic_titles"
   ]
  },
  {
   "cell_type": "markdown",
   "id": "336d5d66",
   "metadata": {},
   "source": [
    "`get_topic_titles` can be used to get the list of titles"
   ]
  },
  {
   "cell_type": "code",
   "execution_count": 6,
   "id": "1b46eff1",
   "metadata": {},
   "outputs": [],
   "source": [
    "titles = get_topic_titles(doc)"
   ]
  },
  {
   "cell_type": "code",
   "execution_count": 7,
   "id": "a47664b4",
   "metadata": {},
   "outputs": [
    {
     "data": {
      "text/plain": [
       "30"
      ]
     },
     "execution_count": 7,
     "metadata": {},
     "output_type": "execute_result"
    }
   ],
   "source": [
    "len(titles)"
   ]
  },
  {
   "cell_type": "code",
   "execution_count": 8,
   "id": "d8da7d33",
   "metadata": {},
   "outputs": [
    {
     "data": {
      "text/plain": [
       "['3D', 'Ajax', 'Algorithm', 'Amp', 'Android']"
      ]
     },
     "execution_count": 8,
     "metadata": {},
     "output_type": "execute_result"
    }
   ],
   "source": [
    "titles[:5]"
   ]
  },
  {
   "cell_type": "code",
   "execution_count": null,
   "id": "a4e6c4e6",
   "metadata": {},
   "outputs": [],
   "source": []
  },
  {
   "cell_type": "markdown",
   "id": "4e3db370",
   "metadata": {},
   "source": [
    "To get the topic description, we can pick `p` tags with the `class` ´f5 color-fg-muted mb-0 mt-1´...\n",
    "\n",
    "![](https://i.imgur.com/vRC97Rc.png)"
   ]
  },
  {
   "cell_type": "code",
   "execution_count": 9,
   "id": "a781c0f6",
   "metadata": {},
   "outputs": [],
   "source": [
    "# Topic description\n",
    "def get_topic_descs(doc):\n",
    "    \n",
    "    desc_selector = 'f5 color-fg-muted mb-0 mt-1'\n",
    "    topic_desc_tags = doc.find_all('p', {'class' : desc_selector})\n",
    "    \n",
    "    topic_descs = []\n",
    "    for tag in topic_desc_tags:\n",
    "        topic_descs.append(tag.text.strip())\n",
    "    return topic_descs"
   ]
  },
  {
   "cell_type": "code",
   "execution_count": null,
   "id": "7400ea20",
   "metadata": {},
   "outputs": [],
   "source": []
  },
  {
   "cell_type": "markdown",
   "id": "4c3bb40f",
   "metadata": {},
   "source": [
    "To get the topic url, we can pick `a` tags with the class ´no-underline flex-1 d-flex flex-column´.\n",
    "\n",
    "![](https://i.imgur.com/IQPsQ3J.png)"
   ]
  },
  {
   "cell_type": "code",
   "execution_count": 10,
   "id": "5f0abf4f",
   "metadata": {},
   "outputs": [],
   "source": [
    "# Topic URL\n",
    "def get_topic_urls(doc):\n",
    "    \n",
    "    topic_link_tags = doc.find_all('a', {'class': 'no-underline flex-1 d-flex flex-column'})    \n",
    "\n",
    "    topic_urls = []\n",
    "    base_url = 'https://github.com'\n",
    "    for tag in topic_link_tags:\n",
    "        topic_urls.append(base_url + tag['href'])    \n",
    "    return topic_urls "
   ]
  },
  {
   "cell_type": "code",
   "execution_count": null,
   "id": "f9bcfb41",
   "metadata": {},
   "outputs": [],
   "source": []
  },
  {
   "cell_type": "markdown",
   "id": "89652dcb",
   "metadata": {},
   "source": [
    "##### Put all these functions together into a single function"
   ]
  },
  {
   "cell_type": "code",
   "execution_count": 11,
   "id": "639e7932",
   "metadata": {},
   "outputs": [],
   "source": [
    "def scrape_topics():\n",
    "    \n",
    "    topics_url = 'https://github.com/topics'\n",
    "    response = requests.get(topics_url)\n",
    "    if response.status_code != 200:\n",
    "        raise Exception('failed to load page {}'.format(topic_url))\n",
    "    \n",
    "    doc = BeautifulSoup(response.text, 'html.parser')\n",
    "        \n",
    "    topic_dict = {\n",
    "        'title': get_topic_titles(doc),\n",
    "        'description': get_topic_descs(doc),\n",
    "        'url': get_topic_urls(doc)\n",
    "    }\n",
    "    return pd.DataFrame(topic_dict)"
   ]
  },
  {
   "cell_type": "code",
   "execution_count": null,
   "id": "2800a3a1",
   "metadata": {},
   "outputs": [],
   "source": []
  },
  {
   "cell_type": "markdown",
   "id": "957329ba",
   "metadata": {},
   "source": [
    "## Get the top repositories from the topic page\n",
    "\n"
   ]
  },
  {
   "cell_type": "code",
   "execution_count": 12,
   "id": "d2790ffb",
   "metadata": {},
   "outputs": [],
   "source": [
    "import os"
   ]
  },
  {
   "cell_type": "markdown",
   "id": "19c45b09",
   "metadata": {},
   "source": [
    "Here is the function to get the individual topic page and download it"
   ]
  },
  {
   "cell_type": "code",
   "execution_count": 13,
   "id": "c31b3290",
   "metadata": {},
   "outputs": [],
   "source": [
    "def get_topic_page(topic_url):\n",
    "    \n",
    "    #Download the page\n",
    "    response = requests.get(topic_url)\n",
    "    \n",
    "    #check successful response\n",
    "    if response.status_code != 200:\n",
    "        raise Exception('failed to load page {}'.format(topic_url))\n",
    "        \n",
    "    # Parse using Beautiful soap\n",
    "    topic_doc = BeautifulSoup(response.text, 'html.parser')\n",
    "    \n",
    "    return topic_doc"
   ]
  },
  {
   "cell_type": "code",
   "execution_count": 14,
   "id": "bf4a4459",
   "metadata": {},
   "outputs": [],
   "source": [
    "doc = get_topic_page('https://github.com/topics/3d')"
   ]
  },
  {
   "cell_type": "code",
   "execution_count": 15,
   "id": "9acda1b1",
   "metadata": {},
   "outputs": [
    {
     "data": {
      "text/plain": [
       "bs4.BeautifulSoup"
      ]
     },
     "execution_count": 15,
     "metadata": {},
     "output_type": "execute_result"
    }
   ],
   "source": [
    "type(doc)"
   ]
  },
  {
   "cell_type": "code",
   "execution_count": null,
   "id": "2147cd45",
   "metadata": {},
   "outputs": [],
   "source": []
  },
  {
   "cell_type": "markdown",
   "id": "5fe0c622",
   "metadata": {},
   "source": [
    "Here we pick the `a` tags to get the `username` and `repository name`.\n",
    "\n",
    "![](https://i.imgur.com/cEaattd.png)\n",
    "![](https://i.imgur.com/TKo0vxc.png)"
   ]
  },
  {
   "cell_type": "code",
   "execution_count": 16,
   "id": "dcf9a4a6",
   "metadata": {},
   "outputs": [],
   "source": [
    "def get_repo_info(h3_tag, star_tag):\n",
    "    #return all the required info about a repository\n",
    "    a_tags = h3_tag.find_all('a')\n",
    "    username = a_tags[0].text.strip()\n",
    "    repo_name = a_tags[1].text.strip()\n",
    "    repo_url = base_url + a_tags[1]['href']\n",
    "    stars = parse_star_count(star_tag.text.strip())\n",
    "    \n",
    "    return username, repo_name, stars, repo_url"
   ]
  },
  {
   "cell_type": "code",
   "execution_count": null,
   "id": "e08ddb16",
   "metadata": {},
   "outputs": [],
   "source": []
  },
  {
   "cell_type": "markdown",
   "id": "5958cfb6",
   "metadata": {},
   "source": [
    "Here I am using `h3` tags witch `class` ´f3 color-fg-muted text-normal lh-condensed´ and for calculating stars we are using `span` tag with the `class` ´Counter js-social-count´\n",
    "\n",
    "![](https://i.imgur.com/bvTIxkJ.png)\n",
    "![](https://i.imgur.com/FOAYBx0.png)"
   ]
  },
  {
   "cell_type": "code",
   "execution_count": 17,
   "id": "ac7f2f4b",
   "metadata": {},
   "outputs": [],
   "source": [
    "def get_topic_repos(topic_doc):\n",
    "    \n",
    "    # get h3 tags containing repo title, repo URL and username\n",
    "    \n",
    "    h3_selection_class = 'f3 color-fg-muted text-normal lh-condensed'\n",
    "    repo_tags = topic_doc.find_all('h3', {'class': h3_selection_class})\n",
    "    \n",
    "    # Get the star tags\n",
    "    star_tags = topic_doc.find_all('span', {'class': 'Counter js-social-count'})\n",
    "    \n",
    "    topic_repos_dict = {\n",
    "        'username' : [],\n",
    "        'repo_name' : [],\n",
    "        'stars' : [],\n",
    "        'repo_url' : []\n",
    "    }\n",
    "\n",
    "    \n",
    "    #Get the repo info\n",
    "    \n",
    "    for i in range(len(repo_tags)):\n",
    "        repo_info = get_repo_info(repo_tags[i], star_tags[i])\n",
    "        topic_repos_dict['username'].append(repo_info[0])\n",
    "        topic_repos_dict['repo_name'].append(repo_info[1])\n",
    "        topic_repos_dict['stars'].append(repo_info[2])\n",
    "        topic_repos_dict['repo_url'].append(repo_info[3])\n",
    "\n",
    "        \n",
    "    return pd.DataFrame(topic_repos_dict)"
   ]
  },
  {
   "cell_type": "code",
   "execution_count": null,
   "id": "da10d227",
   "metadata": {},
   "outputs": [],
   "source": []
  },
  {
   "cell_type": "code",
   "execution_count": null,
   "id": "8ead7fc1",
   "metadata": {},
   "outputs": [],
   "source": []
  },
  {
   "cell_type": "code",
   "execution_count": 18,
   "id": "8597f4dd",
   "metadata": {},
   "outputs": [],
   "source": [
    "def scrape_topic(topic_url, path):    \n",
    "    if os.path.exists(path):\n",
    "        print(\"The file {} already exists. Skipping...\".format(path))\n",
    "        return\n",
    "    topic_df = get_topic_repos(get_topic_page(topic_url))\n",
    "    topic_df.to_csv(path, index = None)"
   ]
  },
  {
   "cell_type": "code",
   "execution_count": null,
   "id": "f80d8412",
   "metadata": {},
   "outputs": [],
   "source": []
  },
  {
   "cell_type": "code",
   "execution_count": null,
   "id": "f4293193",
   "metadata": {},
   "outputs": [],
   "source": []
  },
  {
   "cell_type": "markdown",
   "id": "07f95abb",
   "metadata": {},
   "source": [
    "## Putting it all together\n",
    "\n",
    "- I have a funciton to get the list of topics\n",
    "- I have a function to create a CSV file for scraped repos from a topics page\n",
    "- Let's create a function to put them together"
   ]
  },
  {
   "cell_type": "code",
   "execution_count": null,
   "id": "47d848c8",
   "metadata": {},
   "outputs": [],
   "source": []
  },
  {
   "cell_type": "code",
   "execution_count": null,
   "id": "d4d9b804",
   "metadata": {},
   "outputs": [],
   "source": []
  },
  {
   "cell_type": "code",
   "execution_count": 25,
   "id": "35222c35",
   "metadata": {},
   "outputs": [],
   "source": [
    "def scrape_topics_repos():\n",
    "    print('Scraping list of topics')\n",
    "    topics_df = scrape_topics()\n",
    "    \n",
    "    os.makedirs('data', exist_ok=True)\n",
    "    for index, row in topics_df.iterrows():\n",
    "        print('Scraping top repositories for \"{}\"'.format(row['title']))\n",
    "        scrape_topic(row['url'], 'data/{}.csv'.format(row['title']))"
   ]
  },
  {
   "cell_type": "markdown",
   "id": "49b94898",
   "metadata": {},
   "source": [
    "Let's run it to scrape the top repos for the topics on the first page of https://github.com/topics"
   ]
  },
  {
   "cell_type": "code",
   "execution_count": 26,
   "id": "82037b1a",
   "metadata": {},
   "outputs": [
    {
     "name": "stdout",
     "output_type": "stream",
     "text": [
      "Scraping list of topics\n",
      "Scraping top repositories for \"3D\"\n",
      "The file data/3D.csv already exists. Skipping...\n",
      "Scraping top repositories for \"Ajax\"\n",
      "The file data/Ajax.csv already exists. Skipping...\n",
      "Scraping top repositories for \"Algorithm\"\n",
      "The file data/Algorithm.csv already exists. Skipping...\n",
      "Scraping top repositories for \"Amp\"\n",
      "The file data/Amp.csv already exists. Skipping...\n",
      "Scraping top repositories for \"Android\"\n",
      "The file data/Android.csv already exists. Skipping...\n",
      "Scraping top repositories for \"Angular\"\n",
      "The file data/Angular.csv already exists. Skipping...\n",
      "Scraping top repositories for \"Ansible\"\n",
      "The file data/Ansible.csv already exists. Skipping...\n",
      "Scraping top repositories for \"API\"\n",
      "The file data/API.csv already exists. Skipping...\n",
      "Scraping top repositories for \"Arduino\"\n",
      "The file data/Arduino.csv already exists. Skipping...\n",
      "Scraping top repositories for \"ASP.NET\"\n",
      "The file data/ASP.NET.csv already exists. Skipping...\n",
      "Scraping top repositories for \"Atom\"\n",
      "The file data/Atom.csv already exists. Skipping...\n",
      "Scraping top repositories for \"Awesome Lists\"\n",
      "The file data/Awesome Lists.csv already exists. Skipping...\n",
      "Scraping top repositories for \"Amazon Web Services\"\n",
      "The file data/Amazon Web Services.csv already exists. Skipping...\n",
      "Scraping top repositories for \"Azure\"\n",
      "The file data/Azure.csv already exists. Skipping...\n",
      "Scraping top repositories for \"Babel\"\n",
      "The file data/Babel.csv already exists. Skipping...\n",
      "Scraping top repositories for \"Bash\"\n",
      "The file data/Bash.csv already exists. Skipping...\n",
      "Scraping top repositories for \"Bitcoin\"\n",
      "The file data/Bitcoin.csv already exists. Skipping...\n",
      "Scraping top repositories for \"Bootstrap\"\n",
      "The file data/Bootstrap.csv already exists. Skipping...\n",
      "Scraping top repositories for \"Bot\"\n",
      "The file data/Bot.csv already exists. Skipping...\n",
      "Scraping top repositories for \"C\"\n",
      "The file data/C.csv already exists. Skipping...\n",
      "Scraping top repositories for \"Chrome\"\n",
      "The file data/Chrome.csv already exists. Skipping...\n",
      "Scraping top repositories for \"Chrome extension\"\n",
      "The file data/Chrome extension.csv already exists. Skipping...\n",
      "Scraping top repositories for \"Command line interface\"\n",
      "The file data/Command line interface.csv already exists. Skipping...\n",
      "Scraping top repositories for \"Clojure\"\n",
      "The file data/Clojure.csv already exists. Skipping...\n",
      "Scraping top repositories for \"Code quality\"\n",
      "The file data/Code quality.csv already exists. Skipping...\n",
      "Scraping top repositories for \"Code review\"\n",
      "The file data/Code review.csv already exists. Skipping...\n",
      "Scraping top repositories for \"Compiler\"\n",
      "The file data/Compiler.csv already exists. Skipping...\n",
      "Scraping top repositories for \"Continuous integration\"\n",
      "The file data/Continuous integration.csv already exists. Skipping...\n",
      "Scraping top repositories for \"COVID-19\"\n",
      "The file data/COVID-19.csv already exists. Skipping...\n",
      "Scraping top repositories for \"C++\"\n",
      "The file data/C++.csv already exists. Skipping...\n"
     ]
    }
   ],
   "source": [
    "scrape_topics_repos()"
   ]
  },
  {
   "cell_type": "code",
   "execution_count": null,
   "id": "59557328",
   "metadata": {},
   "outputs": [],
   "source": []
  },
  {
   "cell_type": "code",
   "execution_count": null,
   "id": "2f7ee7e0",
   "metadata": {},
   "outputs": [],
   "source": []
  },
  {
   "cell_type": "markdown",
   "id": "3907f4af",
   "metadata": {},
   "source": [
    "## Reference and Future Work\n",
    "\n",
    "\n",
    "##### Summary\n",
    "\n",
    "- So far I have scrapping the github topic page and create .csv file.\n",
    "- Get username and repositories from each topic\n",
    "\n",
    "##### Reference\n",
    "\n",
    "- Python Requests (https://docs.python-requests.org/en/latest/)\n",
    "- Beautiful Soap (https://www.crummy.com/software/BeautifulSoup/bs4/doc/)\n",
    "- For creating folder (https://www.geeksforgeeks.org/create-a-directory-in-python/)\n",
    "- Downloading jupyter notebook as pdf (https://towardsdatascience.com/jupyter-notebook-to-pdf-in-a-few-lines-3c48d68a7a63#:~:text=In%20your%20notebook%2C%20click%20the,notebook%20as%20a%20PDF%20file.)\n",
    "- Inserting Image (https://stackoverflow.com/questions/10628262/inserting-image-into-ipython-notebook-markdown)\n",
    "\n",
    "##### Future Plan\n",
    "\n",
    "- This time I make it with single page, I will make it into multiple pages\n",
    "- csv files can be used for data analysis and also I can put more variables for better understanding and analysis"
   ]
  },
  {
   "cell_type": "code",
   "execution_count": null,
   "id": "905b1948",
   "metadata": {},
   "outputs": [],
   "source": []
  },
  {
   "cell_type": "code",
   "execution_count": null,
   "id": "f195da26",
   "metadata": {},
   "outputs": [],
   "source": []
  },
  {
   "cell_type": "code",
   "execution_count": null,
   "id": "b881c2e3",
   "metadata": {},
   "outputs": [],
   "source": []
  },
  {
   "cell_type": "code",
   "execution_count": null,
   "id": "a268beba",
   "metadata": {},
   "outputs": [],
   "source": []
  },
  {
   "cell_type": "code",
   "execution_count": null,
   "id": "8a0e00dc",
   "metadata": {},
   "outputs": [],
   "source": []
  },
  {
   "cell_type": "code",
   "execution_count": null,
   "id": "04b34cb3",
   "metadata": {},
   "outputs": [],
   "source": []
  },
  {
   "cell_type": "code",
   "execution_count": null,
   "id": "1bf90355",
   "metadata": {},
   "outputs": [],
   "source": []
  },
  {
   "cell_type": "code",
   "execution_count": null,
   "id": "9fe3402e",
   "metadata": {},
   "outputs": [],
   "source": []
  },
  {
   "cell_type": "code",
   "execution_count": null,
   "id": "660bbe2b",
   "metadata": {},
   "outputs": [],
   "source": []
  }
 ],
 "metadata": {
  "kernelspec": {
   "display_name": "Python 3 (ipykernel)",
   "language": "python",
   "name": "python3"
  },
  "language_info": {
   "codemirror_mode": {
    "name": "ipython",
    "version": 3
   },
   "file_extension": ".py",
   "mimetype": "text/x-python",
   "name": "python",
   "nbconvert_exporter": "python",
   "pygments_lexer": "ipython3",
   "version": "3.9.7"
  }
 },
 "nbformat": 4,
 "nbformat_minor": 5
}
